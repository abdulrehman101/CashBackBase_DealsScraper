{
 "cells": [
  {
   "cell_type": "code",
   "execution_count": 81,
   "metadata": {},
   "outputs": [],
   "source": [
    "import requests\n",
    "from bs4 import BeautifulSoup\n",
    "import re"
   ]
  },
  {
   "cell_type": "code",
   "execution_count": 41,
   "metadata": {},
   "outputs": [],
   "source": [
    "hotdeals = \"https://www.cashbackbase.com/deal/hot?page=1\""
   ]
  },
  {
   "cell_type": "code",
   "execution_count": 42,
   "metadata": {},
   "outputs": [],
   "source": [
    "html_string = requests.get(hotdeals).content"
   ]
  },
  {
   "cell_type": "code",
   "execution_count": 53,
   "metadata": {},
   "outputs": [],
   "source": [
    "soup = BeautifulSoup(html_string,\"html.parser\")"
   ]
  },
  {
   "cell_type": "code",
   "execution_count": 82,
   "metadata": {},
   "outputs": [],
   "source": [
    "pages = soup.find_all(href=re.compile(\"page=\"))"
   ]
  },
  {
   "cell_type": "code",
   "execution_count": 95,
   "metadata": {},
   "outputs": [],
   "source": [
    "max_num = []"
   ]
  },
  {
   "cell_type": "code",
   "execution_count": 96,
   "metadata": {},
   "outputs": [],
   "source": [
    "for l in pages:\n",
    "    max_num.append(l.get_text())"
   ]
  },
  {
   "cell_type": "code",
   "execution_count": 98,
   "metadata": {},
   "outputs": [],
   "source": [
    "max_num = max_num[:-1]"
   ]
  },
  {
   "cell_type": "code",
   "execution_count": 100,
   "metadata": {},
   "outputs": [],
   "source": [
    "max_num = [int(x) for x in max_num]"
   ]
  },
  {
   "cell_type": "code",
   "execution_count": 102,
   "metadata": {},
   "outputs": [],
   "source": [
    "maximum = max(max_num)"
   ]
  },
  {
   "cell_type": "code",
   "execution_count": 105,
   "metadata": {},
   "outputs": [],
   "source": [
    "link = \"https://www.cashbackbase.com/deal/hot?page=\"\n",
    "links = []"
   ]
  },
  {
   "cell_type": "code",
   "execution_count": 108,
   "metadata": {},
   "outputs": [],
   "source": [
    "for i in range(maximum):\n",
    "    links.append(link+str(i + 1))"
   ]
  },
  {
   "cell_type": "code",
   "execution_count": 139,
   "metadata": {},
   "outputs": [],
   "source": [
    "all_pages = {}"
   ]
  },
  {
   "cell_type": "code",
   "execution_count": 114,
   "metadata": {},
   "outputs": [
    {
     "name": "stdout",
     "output_type": "stream",
     "text": [
      "[(0, 'https://www.cashbackbase.com/deal/hot?page=1'), (1, 'https://www.cashbackbase.com/deal/hot?page=2'), (2, 'https://www.cashbackbase.com/deal/hot?page=3'), (3, 'https://www.cashbackbase.com/deal/hot?page=4'), (4, 'https://www.cashbackbase.com/deal/hot?page=5'), (5, 'https://www.cashbackbase.com/deal/hot?page=6'), (6, 'https://www.cashbackbase.com/deal/hot?page=7'), (7, 'https://www.cashbackbase.com/deal/hot?page=8'), (8, 'https://www.cashbackbase.com/deal/hot?page=9'), (9, 'https://www.cashbackbase.com/deal/hot?page=10'), (10, 'https://www.cashbackbase.com/deal/hot?page=11'), (11, 'https://www.cashbackbase.com/deal/hot?page=12')]\n"
     ]
    }
   ],
   "source": [
    "print(list(enumerate(links)))"
   ]
  },
  {
   "cell_type": "code",
   "execution_count": 140,
   "metadata": {},
   "outputs": [],
   "source": [
    "for l in list(enumerate(links)):\n",
    "    all_pages[l[0]+1] = BeautifulSoup(requests.get(l[1]).content,\"html.parser\")"
   ]
  },
  {
   "cell_type": "code",
   "execution_count": 145,
   "metadata": {},
   "outputs": [],
   "source": [
    "trying = all_pages[1].find_all('a',attrs={\"class\":\"hot-deal-entry\"})"
   ]
  },
  {
   "cell_type": "code",
   "execution_count": 155,
   "metadata": {},
   "outputs": [
    {
     "data": {
      "text/plain": [
       "<a class=\"hot-deal-entry\" href=\"https://www.cashbackbase.com/offer/Coxeer-Colorful-Multihole-Playtime-Birthday/9604\" style=\"display: block; overflow: hidden;\">\n",
       "<div>\n",
       "<div class=\"product-img-container lazy\" data-bg=\"url(/image/thumbs/image/deals/2/c/2c9323ea11c882a814bab14137f3a2c5.jpeg)\"></div>\n",
       "<p class=\"hot-entity-title\"><span>Coxeer Bubble Wands Set, 28PCS Colorful Bubble Wand Toy Set Multihole Bubble Toys Bubble Making Wand for Kids Outdoor Playtime &amp; Birthday Party &amp; Game Toy Nice(Random Color 1)</span></p>\n",
       "<ul class=\"prime-acount-list normal-account-list\" style=\"display: flex; justify-content: space-between; margin-bottom: 16px;\">\n",
       "<li class=\"account-left\">\n",
       "<p class=\"prime-value\">$ 11.75</p>\n",
       "<p class=\"prime-tile\">Price</p>\n",
       "</li>\n",
       "<li class=\"account-off\">\n",
       "<p class=\"prime-value\">$ 10.75</p>\n",
       "<p class=\"prime-tile\">Cashback</p>\n",
       "</li>\n",
       "<li class=\"account-off\" style=\"line-height: 1.5em;\">\n",
       "<p class=\"prime-value\" style=\"color: #666; font-weight: 100; font-size: 16px;margin-bottom: 7px !important;\">\n",
       "<img src=\"https://www.cashbackbase.com/css/front/images/points.png\"/>\n",
       "                                1075\n",
       "                            </p>\n",
       "<p class=\"prime-tile\">Needed</p>\n",
       "</li>\n",
       "</ul>\n",
       "</div>\n",
       "</a>"
      ]
     },
     "execution_count": 155,
     "metadata": {},
     "output_type": "execute_result"
    }
   ],
   "source": [
    "trying[0]"
   ]
  }
 ],
 "metadata": {
  "kernelspec": {
   "display_name": "Python 3",
   "language": "python",
   "name": "python3"
  },
  "language_info": {
   "codemirror_mode": {
    "name": "ipython",
    "version": 3
   },
   "file_extension": ".py",
   "mimetype": "text/x-python",
   "name": "python",
   "nbconvert_exporter": "python",
   "pygments_lexer": "ipython3",
   "version": "3.7.4"
  }
 },
 "nbformat": 4,
 "nbformat_minor": 2
}
