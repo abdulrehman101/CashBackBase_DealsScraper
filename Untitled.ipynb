{
 "cells": [
  {
   "cell_type": "code",
   "execution_count": 156,
   "metadata": {},
   "outputs": [],
   "source": [
    "import requests\n",
    "from bs4 import BeautifulSoup\n",
    "import re"
   ]
  },
  {
   "cell_type": "code",
   "execution_count": 157,
   "metadata": {},
   "outputs": [],
   "source": [
    "hotdeals = \"https://www.cashbackbase.com/deal/hot?page=1\""
   ]
  },
  {
   "cell_type": "code",
   "execution_count": 158,
   "metadata": {},
   "outputs": [],
   "source": [
    "html_string = requests.get(hotdeals).content"
   ]
  },
  {
   "cell_type": "code",
   "execution_count": 159,
   "metadata": {},
   "outputs": [],
   "source": [
    "soup = BeautifulSoup(html_string,\"html.parser\")"
   ]
  },
  {
   "cell_type": "code",
   "execution_count": 160,
   "metadata": {},
   "outputs": [],
   "source": [
    "pages = soup.find_all(href=re.compile(\"page=\"))"
   ]
  },
  {
   "cell_type": "code",
   "execution_count": 161,
   "metadata": {},
   "outputs": [],
   "source": [
    "max_num = []"
   ]
  },
  {
   "cell_type": "code",
   "execution_count": 162,
   "metadata": {},
   "outputs": [],
   "source": [
    "for l in pages:\n",
    "    max_num.append(l.get_text())"
   ]
  },
  {
   "cell_type": "code",
   "execution_count": 163,
   "metadata": {},
   "outputs": [],
   "source": [
    "max_num = max_num[:-1]"
   ]
  },
  {
   "cell_type": "code",
   "execution_count": 164,
   "metadata": {},
   "outputs": [],
   "source": [
    "max_num = [int(x) for x in max_num]"
   ]
  },
  {
   "cell_type": "code",
   "execution_count": 165,
   "metadata": {},
   "outputs": [],
   "source": [
    "maximum = max(max_num)"
   ]
  },
  {
   "cell_type": "code",
   "execution_count": 166,
   "metadata": {},
   "outputs": [],
   "source": [
    "link = \"https://www.cashbackbase.com/deal/hot?page=\"\n",
    "links = []"
   ]
  },
  {
   "cell_type": "code",
   "execution_count": 167,
   "metadata": {},
   "outputs": [],
   "source": [
    "for i in range(maximum):\n",
    "    links.append(link+str(i + 1))"
   ]
  },
  {
   "cell_type": "code",
   "execution_count": 168,
   "metadata": {},
   "outputs": [],
   "source": [
    "all_pages = {}"
   ]
  },
  {
   "cell_type": "code",
   "execution_count": 170,
   "metadata": {},
   "outputs": [],
   "source": [
    "for l in list(enumerate(links)):\n",
    "    all_pages[l[0]+1] = BeautifulSoup(requests.get(l[1]).content,\"html.parser\")"
   ]
  },
  {
   "cell_type": "code",
   "execution_count": 171,
   "metadata": {},
   "outputs": [],
   "source": [
    "trying = all_pages[1].find_all('a',attrs={\"class\":\"hot-deal-entry\"})"
   ]
  },
  {
   "cell_type": "code",
   "execution_count": 224,
   "metadata": {},
   "outputs": [],
   "source": [
    "results = []\n",
    "# all the pages\n",
    "for i in all_pages:\n",
    "#   all the products on that page\n",
    "    products = all_pages[i].find_all('a',attrs={\"class\":\"hot-deal-entry\"})\n",
    "    for prod in products:\n",
    "        url = prod['href']\n",
    "        title = prod.find('p',attrs={\"class\":\"hot-entity-title\"}).span.get_text()\n",
    "        price = float(prod.find('li',attrs={\"class\":\"account-left\"}).p.get_text()[2:])\n",
    "        cash_back = float(prod.find('li',attrs={\"class\":\"account-off\"}).p.get_text()[2:])\n",
    "        points = float(prod.find('p',attrs={\"style\":\"color: #666; font-weight: 100; font-size: 16px;margin-bottom: 7px !important;\"}).get_text().strip())\n",
    "        indicator = points*(price-cash_back)\n",
    "        results.append([title,url,price,cash_back,points,price-cash_back,indicator])"
   ]
  },
  {
   "cell_type": "code",
   "execution_count": 218,
   "metadata": {},
   "outputs": [],
   "source": [
    "results.sort(key = lambda x: (x[6],x[5],x[4]))"
   ]
  },
  {
   "cell_type": "code",
   "execution_count": 220,
   "metadata": {},
   "outputs": [],
   "source": [
    "results.insert(0,[\"title\",\"url\",\"price\",\"cash_back\",\"points\",\"total\",\"indicator\"])"
   ]
  },
  {
   "cell_type": "code",
   "execution_count": 222,
   "metadata": {},
   "outputs": [],
   "source": [
    "import pandas as pd"
   ]
  },
  {
   "cell_type": "code",
   "execution_count": 223,
   "metadata": {},
   "outputs": [],
   "source": [
    "df = pd.DataFrame(results)\n",
    "df.to_csv('results.csv',index=False,header=False)"
   ]
  }
 ],
 "metadata": {
  "kernelspec": {
   "display_name": "Python 3",
   "language": "python",
   "name": "python3"
  },
  "language_info": {
   "codemirror_mode": {
    "name": "ipython",
    "version": 3
   },
   "file_extension": ".py",
   "mimetype": "text/x-python",
   "name": "python",
   "nbconvert_exporter": "python",
   "pygments_lexer": "ipython3",
   "version": "3.7.4"
  }
 },
 "nbformat": 4,
 "nbformat_minor": 2
}
